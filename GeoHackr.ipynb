{
  "nbformat": 4,
  "nbformat_minor": 0,
  "metadata": {
    "colab": {
      "provenance": []
    },
    "kernelspec": {
      "name": "python3",
      "display_name": "Python 3"
    },
    "language_info": {
      "name": "python"
    }
  },
  "cells": [
    {
      "cell_type": "code",
      "source": [
        "!pip install requests\n",
        "!pip install folium\n",
        "!pip install pandas"
      ],
      "metadata": {
        "id": "ertpWPHwwEX2"
      },
      "execution_count": null,
      "outputs": []
    },
    {
      "cell_type": "markdown",
      "source": [
        "Example request: https://maps.googleapis.com/maps/api/js/GeoPhotoService.GetMetadata?pb=!1m4!1sapiv3!11m2!1m1!1b0!2m2!1sen!2sUS!3m3!1m2!1e10!2sAF1QipOTMj5RbsLH4PIjM2M_6gJKyXHfDBHgqdhIgMjC!4m57!1e1!1e2!1e3!1e4!1e5!1e6!1e8!1e12!2m1!1e1!4m1!1i48!5m1!1e1!5m1!1e2!6m1!1e1!6m1!1e2!9m36!1m3!1e2!2b1!3e2!1m3!1e2!2b0!3e3!1m3!1e3!2b1!3e2!1m3!1e3!2b0!3e3!1m3!1e8!2b0!3e3!1m3!1e1!2b0!3e3!1m3!1e4!2b0!3e3!1m3!1e10!2b1!3e2!1m3!1e10!2b0!3e3&callback=_callbacks____3lprf4347\n"
      ],
      "metadata": {
        "id": "odZQN85LEOsg"
      }
    },
    {
      "cell_type": "code",
      "source": [
        "import requests\n",
        "import re\n",
        "import folium\n",
        "\n",
        "def return_clean_coordinates(match_str):\n",
        "  match_list = match_str.replace('null','').strip('][').split(',')\n",
        "  return match_list[2:]\n",
        "\n",
        "def return_coordinates(text):\n",
        "  matches = re.findall(r'\\[null[0-9a-z,.\\- ]*\\]', text)\n",
        "  return [return_clean_coordinates(match_str) for match_str in matches]\n",
        "\n",
        "def return_coordinate_address(coords):\n",
        "  url = f\"https://nominatim.openstreetmap.org/search.php?q={coords[0]},{coords[1]}&format=json\"\n",
        "  res = requests.get(url)\n",
        "  coordinate_address = res.json()[0].get('display_name')\n",
        "  return coordinate_address\n",
        "\n",
        "url = input(\"Paste URL: \")\n",
        "res = requests.get(url)\n",
        "text = res.text\n",
        "coordinates = return_coordinates(text)\n",
        "\n",
        "folium_map = None\n",
        "for coords in coordinates:\n",
        "  try:\n",
        "    folium_map = folium.Map(location=coords, zoom_start = 15)\n",
        "    folium.Marker(location=coords, fill_color='#43d9de', radius=8, popup=return_coordinate_address(coords)).add_to( folium_map )\n",
        "    break\n",
        "  except:\n",
        "    pass\n",
        "\n",
        "folium_map"
      ],
      "metadata": {
        "id": "lRkCXrjEL_1F"
      },
      "execution_count": null,
      "outputs": []
    }
  ]
}